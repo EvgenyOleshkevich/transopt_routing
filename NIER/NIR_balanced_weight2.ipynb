{
 "cells": [
  {
   "cell_type": "code",
   "execution_count": 1,
   "metadata": {},
   "outputs": [],
   "source": [
    "import pandas as pd\n",
    "import numpy as np\n",
    "\n",
    "from matplotlib.pyplot import (axes,axis,title,legend,figure,\n",
    "                               xlabel,ylabel,xticks,yticks,\n",
    "                               xscale,yscale,text,grid,\n",
    "                               plot,scatter,errorbar,hist,polar,\n",
    "                               contour,contourf,colorbar,clabel,\n",
    "                               imshow)\n",
    "import matplotlib.pyplot as plt\n",
    "import random\n",
    "import math\n",
    "import matplotlib\n",
    "matplotlib.style.use('ggplot')\n",
    "\n",
    "import os\n",
    "os.chdir(\"C:/Users/olesh/Documents/programs/transopt_routing/NIER\")\n",
    "import json\n",
    "\n",
    "\n",
    "\n",
    "%matplotlib inline\n"
   ]
  },
  {
   "cell_type": "code",
   "execution_count": 92,
   "metadata": {},
   "outputs": [],
   "source": [
    "os.environ['NUMEXPR_NUM_THREADS'] = '24'"
   ]
  },
  {
   "cell_type": "code",
   "execution_count": 88,
   "metadata": {},
   "outputs": [
    {
     "data": {
      "text/html": [
       "<div>\n",
       "<style scoped>\n",
       "    .dataframe tbody tr th:only-of-type {\n",
       "        vertical-align: middle;\n",
       "    }\n",
       "\n",
       "    .dataframe tbody tr th {\n",
       "        vertical-align: top;\n",
       "    }\n",
       "\n",
       "    .dataframe thead th {\n",
       "        text-align: right;\n",
       "    }\n",
       "</style>\n",
       "<table border=\"1\" class=\"dataframe\">\n",
       "  <thead>\n",
       "    <tr style=\"text-align: right;\">\n",
       "      <th></th>\n",
       "      <th>address</th>\n",
       "      <th>count</th>\n",
       "      <th>v</th>\n",
       "      <th>freq</th>\n",
       "      <th>volume</th>\n",
       "    </tr>\n",
       "  </thead>\n",
       "  <tbody>\n",
       "    <tr>\n",
       "      <th>0</th>\n",
       "      <td>40 ЛЕТ ПОБЕДЫ 16</td>\n",
       "      <td>4.0</td>\n",
       "      <td>0.75</td>\n",
       "      <td>1.0</td>\n",
       "      <td>3.00</td>\n",
       "    </tr>\n",
       "    <tr>\n",
       "      <th>1</th>\n",
       "      <td>40 ЛЕТ ПОБЕДЫ 4</td>\n",
       "      <td>4.0</td>\n",
       "      <td>0.75</td>\n",
       "      <td>1.0</td>\n",
       "      <td>3.00</td>\n",
       "    </tr>\n",
       "    <tr>\n",
       "      <th>2</th>\n",
       "      <td>5-Й АРТЕЛЬНЫЙ ПРОЕЗД, ДОМ № 21</td>\n",
       "      <td>5.0</td>\n",
       "      <td>1.10</td>\n",
       "      <td>1.0</td>\n",
       "      <td>5.50</td>\n",
       "    </tr>\n",
       "    <tr>\n",
       "      <th>3</th>\n",
       "      <td>АДЫГЕЙСКАЯ НАБЕРЕЖНАЯ 128</td>\n",
       "      <td>3.0</td>\n",
       "      <td>0.75</td>\n",
       "      <td>1.0</td>\n",
       "      <td>2.25</td>\n",
       "    </tr>\n",
       "    <tr>\n",
       "      <th>4</th>\n",
       "      <td>АДЫГЕЙСКАЯ НАБЕРЕЖНАЯ 153</td>\n",
       "      <td>3.0</td>\n",
       "      <td>0.75</td>\n",
       "      <td>1.0</td>\n",
       "      <td>2.25</td>\n",
       "    </tr>\n",
       "    <tr>\n",
       "      <th>...</th>\n",
       "      <td>...</td>\n",
       "      <td>...</td>\n",
       "      <td>...</td>\n",
       "      <td>...</td>\n",
       "      <td>...</td>\n",
       "    </tr>\n",
       "    <tr>\n",
       "      <th>2143</th>\n",
       "      <td>ЯРОСЛАВСКАЯ 118</td>\n",
       "      <td>3.0</td>\n",
       "      <td>0.75</td>\n",
       "      <td>1.0</td>\n",
       "      <td>2.25</td>\n",
       "    </tr>\n",
       "    <tr>\n",
       "      <th>2144</th>\n",
       "      <td>ЯРОСЛАВСКАЯ 30</td>\n",
       "      <td>2.0</td>\n",
       "      <td>0.75</td>\n",
       "      <td>1.0</td>\n",
       "      <td>1.50</td>\n",
       "    </tr>\n",
       "    <tr>\n",
       "      <th>2145</th>\n",
       "      <td>ЯРОСЛАВСКАЯ 4</td>\n",
       "      <td>2.0</td>\n",
       "      <td>0.75</td>\n",
       "      <td>1.0</td>\n",
       "      <td>1.50</td>\n",
       "    </tr>\n",
       "    <tr>\n",
       "      <th>2146</th>\n",
       "      <td>ЯРОСЛАВСКАЯ 68</td>\n",
       "      <td>2.0</td>\n",
       "      <td>0.75</td>\n",
       "      <td>1.0</td>\n",
       "      <td>1.50</td>\n",
       "    </tr>\n",
       "    <tr>\n",
       "      <th>2147</th>\n",
       "      <td>ЯРОСЛАВСКАЯ 86</td>\n",
       "      <td>2.0</td>\n",
       "      <td>0.75</td>\n",
       "      <td>1.0</td>\n",
       "      <td>1.50</td>\n",
       "    </tr>\n",
       "  </tbody>\n",
       "</table>\n",
       "<p>2148 rows × 5 columns</p>\n",
       "</div>"
      ],
      "text/plain": [
       "                             address  count     v  freq  volume\n",
       "0                   40 ЛЕТ ПОБЕДЫ 16    4.0  0.75   1.0    3.00\n",
       "1                    40 ЛЕТ ПОБЕДЫ 4    4.0  0.75   1.0    3.00\n",
       "2     5-Й АРТЕЛЬНЫЙ ПРОЕЗД, ДОМ № 21    5.0  1.10   1.0    5.50\n",
       "3          АДЫГЕЙСКАЯ НАБЕРЕЖНАЯ 128    3.0  0.75   1.0    2.25\n",
       "4          АДЫГЕЙСКАЯ НАБЕРЕЖНАЯ 153    3.0  0.75   1.0    2.25\n",
       "...                              ...    ...   ...   ...     ...\n",
       "2143                 ЯРОСЛАВСКАЯ 118    3.0  0.75   1.0    2.25\n",
       "2144                  ЯРОСЛАВСКАЯ 30    2.0  0.75   1.0    1.50\n",
       "2145                   ЯРОСЛАВСКАЯ 4    2.0  0.75   1.0    1.50\n",
       "2146                  ЯРОСЛАВСКАЯ 68    2.0  0.75   1.0    1.50\n",
       "2147                  ЯРОСЛАВСКАЯ 86    2.0  0.75   1.0    1.50\n",
       "\n",
       "[2148 rows x 5 columns]"
      ]
     },
     "execution_count": 88,
     "metadata": {},
     "output_type": "execute_result"
    }
   ],
   "source": [
    "df = pd.read_excel('Bug.xlsx')\n",
    "df"
   ]
  },
  {
   "cell_type": "code",
   "execution_count": null,
   "metadata": {},
   "outputs": [],
   "source": [
    "lat = np.zeros(len(df))\n",
    "lon = np.zeros(len(df))"
   ]
  },
  {
   "cell_type": "code",
   "execution_count": 165,
   "metadata": {},
   "outputs": [
    {
     "data": {
      "text/html": [
       "<div>\n",
       "<style scoped>\n",
       "    .dataframe tbody tr th:only-of-type {\n",
       "        vertical-align: middle;\n",
       "    }\n",
       "\n",
       "    .dataframe tbody tr th {\n",
       "        vertical-align: top;\n",
       "    }\n",
       "\n",
       "    .dataframe thead th {\n",
       "        text-align: right;\n",
       "    }\n",
       "</style>\n",
       "<table border=\"1\" class=\"dataframe\">\n",
       "  <thead>\n",
       "    <tr style=\"text-align: right;\">\n",
       "      <th></th>\n",
       "      <th>address</th>\n",
       "      <th>count</th>\n",
       "      <th>v</th>\n",
       "      <th>freq</th>\n",
       "      <th>volume</th>\n",
       "      <th>lat</th>\n",
       "      <th>lon</th>\n",
       "    </tr>\n",
       "  </thead>\n",
       "  <tbody>\n",
       "    <tr>\n",
       "      <th>0</th>\n",
       "      <td>40 ЛЕТ ПОБЕДЫ 16</td>\n",
       "      <td>4.0</td>\n",
       "      <td>0.75</td>\n",
       "      <td>1.0</td>\n",
       "      <td>3.00</td>\n",
       "      <td>45.054699</td>\n",
       "      <td>38.999636</td>\n",
       "    </tr>\n",
       "    <tr>\n",
       "      <th>1</th>\n",
       "      <td>40 ЛЕТ ПОБЕДЫ 4</td>\n",
       "      <td>4.0</td>\n",
       "      <td>0.75</td>\n",
       "      <td>1.0</td>\n",
       "      <td>3.00</td>\n",
       "      <td>45.054026</td>\n",
       "      <td>38.991491</td>\n",
       "    </tr>\n",
       "    <tr>\n",
       "      <th>2</th>\n",
       "      <td>5-Й АРТЕЛЬНЫЙ ПРОЕЗД, ДОМ № 21</td>\n",
       "      <td>5.0</td>\n",
       "      <td>1.10</td>\n",
       "      <td>1.0</td>\n",
       "      <td>5.50</td>\n",
       "      <td>45.011292</td>\n",
       "      <td>39.029004</td>\n",
       "    </tr>\n",
       "    <tr>\n",
       "      <th>3</th>\n",
       "      <td>АДЫГЕЙСКАЯ НАБЕРЕЖНАЯ 128</td>\n",
       "      <td>3.0</td>\n",
       "      <td>0.75</td>\n",
       "      <td>1.0</td>\n",
       "      <td>2.25</td>\n",
       "      <td>45.014636</td>\n",
       "      <td>39.000797</td>\n",
       "    </tr>\n",
       "    <tr>\n",
       "      <th>4</th>\n",
       "      <td>АДЫГЕЙСКАЯ НАБЕРЕЖНАЯ 153</td>\n",
       "      <td>3.0</td>\n",
       "      <td>0.75</td>\n",
       "      <td>1.0</td>\n",
       "      <td>2.25</td>\n",
       "      <td>45.014292</td>\n",
       "      <td>39.003210</td>\n",
       "    </tr>\n",
       "    <tr>\n",
       "      <th>...</th>\n",
       "      <td>...</td>\n",
       "      <td>...</td>\n",
       "      <td>...</td>\n",
       "      <td>...</td>\n",
       "      <td>...</td>\n",
       "      <td>...</td>\n",
       "      <td>...</td>\n",
       "    </tr>\n",
       "    <tr>\n",
       "      <th>2143</th>\n",
       "      <td>ЯРОСЛАВСКАЯ 118</td>\n",
       "      <td>3.0</td>\n",
       "      <td>0.75</td>\n",
       "      <td>1.0</td>\n",
       "      <td>2.25</td>\n",
       "      <td>45.087812</td>\n",
       "      <td>38.985663</td>\n",
       "    </tr>\n",
       "    <tr>\n",
       "      <th>2144</th>\n",
       "      <td>ЯРОСЛАВСКАЯ 30</td>\n",
       "      <td>2.0</td>\n",
       "      <td>0.75</td>\n",
       "      <td>1.0</td>\n",
       "      <td>1.50</td>\n",
       "      <td>45.079395</td>\n",
       "      <td>38.983767</td>\n",
       "    </tr>\n",
       "    <tr>\n",
       "      <th>2145</th>\n",
       "      <td>ЯРОСЛАВСКАЯ 4</td>\n",
       "      <td>2.0</td>\n",
       "      <td>0.75</td>\n",
       "      <td>1.0</td>\n",
       "      <td>1.50</td>\n",
       "      <td>0.000000</td>\n",
       "      <td>0.000000</td>\n",
       "    </tr>\n",
       "    <tr>\n",
       "      <th>2146</th>\n",
       "      <td>ЯРОСЛАВСКАЯ 68</td>\n",
       "      <td>2.0</td>\n",
       "      <td>0.75</td>\n",
       "      <td>1.0</td>\n",
       "      <td>1.50</td>\n",
       "      <td>45.083335</td>\n",
       "      <td>38.984642</td>\n",
       "    </tr>\n",
       "    <tr>\n",
       "      <th>2147</th>\n",
       "      <td>ЯРОСЛАВСКАЯ 86</td>\n",
       "      <td>2.0</td>\n",
       "      <td>0.75</td>\n",
       "      <td>1.0</td>\n",
       "      <td>1.50</td>\n",
       "      <td>45.084732</td>\n",
       "      <td>38.984958</td>\n",
       "    </tr>\n",
       "  </tbody>\n",
       "</table>\n",
       "<p>2148 rows × 7 columns</p>\n",
       "</div>"
      ],
      "text/plain": [
       "                             address  count     v  freq  volume        lat  \\\n",
       "0                   40 ЛЕТ ПОБЕДЫ 16    4.0  0.75   1.0    3.00  45.054699   \n",
       "1                    40 ЛЕТ ПОБЕДЫ 4    4.0  0.75   1.0    3.00  45.054026   \n",
       "2     5-Й АРТЕЛЬНЫЙ ПРОЕЗД, ДОМ № 21    5.0  1.10   1.0    5.50  45.011292   \n",
       "3          АДЫГЕЙСКАЯ НАБЕРЕЖНАЯ 128    3.0  0.75   1.0    2.25  45.014636   \n",
       "4          АДЫГЕЙСКАЯ НАБЕРЕЖНАЯ 153    3.0  0.75   1.0    2.25  45.014292   \n",
       "...                              ...    ...   ...   ...     ...        ...   \n",
       "2143                 ЯРОСЛАВСКАЯ 118    3.0  0.75   1.0    2.25  45.087812   \n",
       "2144                  ЯРОСЛАВСКАЯ 30    2.0  0.75   1.0    1.50  45.079395   \n",
       "2145                   ЯРОСЛАВСКАЯ 4    2.0  0.75   1.0    1.50   0.000000   \n",
       "2146                  ЯРОСЛАВСКАЯ 68    2.0  0.75   1.0    1.50  45.083335   \n",
       "2147                  ЯРОСЛАВСКАЯ 86    2.0  0.75   1.0    1.50  45.084732   \n",
       "\n",
       "            lon  \n",
       "0     38.999636  \n",
       "1     38.991491  \n",
       "2     39.029004  \n",
       "3     39.000797  \n",
       "4     39.003210  \n",
       "...         ...  \n",
       "2143  38.985663  \n",
       "2144  38.983767  \n",
       "2145   0.000000  \n",
       "2146  38.984642  \n",
       "2147  38.984958  \n",
       "\n",
       "[2148 rows x 7 columns]"
      ]
     },
     "execution_count": 165,
     "metadata": {},
     "output_type": "execute_result"
    }
   ],
   "source": [
    "df['lat'] = lat\n",
    "df['lon'] = lon\n",
    "df"
   ]
  },
  {
   "cell_type": "code",
   "execution_count": 244,
   "metadata": {},
   "outputs": [],
   "source": [
    "df = df[df['lon'] >10]"
   ]
  },
  {
   "cell_type": "code",
   "execution_count": null,
   "metadata": {},
   "outputs": [],
   "source": [
    "points = np.zeros((2, 2148))"
   ]
  },
  {
   "cell_type": "code",
   "execution_count": 164,
   "metadata": {},
   "outputs": [
    {
     "name": "stdout",
     "output_type": "stream",
     "text": [
      "0.0\n",
      "0.023277467411545624\n",
      "0.04655493482309125\n",
      "0.06983240223463687\n",
      "0.0931098696461825\n",
      "0.11638733705772812\n",
      "0.13966480446927373\n",
      "0.16294227188081936\n",
      "0.186219739292365\n",
      "0.20949720670391062\n",
      "0.23277467411545624\n",
      "0.25605214152700184\n",
      "0.27932960893854747\n",
      "0.3026070763500931\n",
      "0.3258845437616387\n",
      "0.34916201117318435\n",
      "0.37243947858473\n",
      "0.3957169459962756\n",
      "0.41899441340782123\n",
      "0.44227188081936686\n",
      "0.4655493482309125\n",
      "0.4888268156424581\n",
      "0.5121042830540037\n",
      "0.5353817504655494\n",
      "0.5586592178770949\n",
      "0.5819366852886406\n",
      "0.6052141527001862\n",
      "0.6284916201117319\n",
      "0.6517690875232774\n",
      "0.6750465549348231\n",
      "0.6983240223463687\n",
      "0.7216014897579144\n",
      "0.74487895716946\n",
      "0.7681564245810056\n",
      "0.7914338919925512\n",
      "0.8147113594040968\n",
      "0.8379888268156425\n",
      "0.861266294227188\n",
      "0.8845437616387337\n",
      "0.9078212290502793\n",
      "0.931098696461825\n",
      "0.9543761638733705\n",
      "0.9776536312849162\n"
     ]
    }
   ],
   "source": [
    "i = -1\n",
    "for row in df.iterrows():\n",
    "    i += 1\n",
    "    url= 'https://nominatim.openstreetmap.org/search?format=json&city=krasnodar&format=json&street='\n",
    "    url += urllib.parse.quote(row[1]['address'])\n",
    "    webUrl  = urllib.request.urlopen(url, timeout=100)\n",
    "    data = webUrl.read()\n",
    "    \n",
    "    if i%50 == 0:\n",
    "        print(i/len(df))\n",
    "    \n",
    "    for row2 in json.loads(data): \n",
    "        if row2['display_name'].find(', Краснодар,') > -1:\n",
    "            lat[i] = row2['lat']\n",
    "            lon[i] = row2['lon']\n",
    "            break"
   ]
  },
  {
   "cell_type": "code",
   "execution_count": 173,
   "metadata": {},
   "outputs": [],
   "source": [
    "#g = df[['volume', 'x', 'y']]\n",
    "df.drop(['address', 'count', 'v'], axis=1).to_csv('file_data3.csv', index = False, sep = ' ')"
   ]
  },
  {
   "cell_type": "markdown",
   "metadata": {},
   "source": [
    "## urllib"
   ]
  },
  {
   "cell_type": "code",
   "execution_count": 84,
   "metadata": {},
   "outputs": [],
   "source": [
    "\n",
    "import urllib\n",
    "webUrl  = urllib.request.urlopen('https://nominatim.openstreetmap.org/search?format=json&city=krasnodar&format=json&street=krasnaya', timeout=100)\n",
    "data = webUrl.read()\n"
   ]
  },
  {
   "cell_type": "code",
   "execution_count": null,
   "metadata": {},
   "outputs": [],
   "source": [
    "https://nominatim.openstreetmap.org/search?format=json&city=krasnodar&format=json&street=krasnaya\n",
    "    "
   ]
  },
  {
   "cell_type": "code",
   "execution_count": 179,
   "metadata": {},
   "outputs": [],
   "source": [
    "\n",
    "url= 'https://nominatim.openstreetmap.org/search?format=json&city=krasnodar&format=json&street='\n",
    "url += urllib.parse.quote(\"ЛЕВАНЕВСКОГО 71 А\")\n",
    "\n",
    "\n",
    "webUrl  = urllib.request.urlopen(url, timeout=100)\n",
    "data = webUrl.read()\n",
    "#print(data)"
   ]
  },
  {
   "cell_type": "code",
   "execution_count": 180,
   "metadata": {},
   "outputs": [
    {
     "data": {
      "text/plain": [
       "{'place_id': 133033524,\n",
       " 'licence': 'Data © OpenStreetMap contributors, ODbL 1.0. https://osm.org/copyright',\n",
       " 'osm_type': 'way',\n",
       " 'osm_id': 181474014,\n",
       " 'boundingbox': ['45.0235867', '45.0266102', '38.9811167', '38.9821946'],\n",
       " 'lat': '45.0251037',\n",
       " 'lon': '38.9816526',\n",
       " 'display_name': 'улица Леваневского, Центральный округ, Краснодар, городской округ Краснодар, Краснодарский край, Южный федеральный округ, 350000, Россия',\n",
       " 'class': 'highway',\n",
       " 'type': 'tertiary',\n",
       " 'importance': 0.09999999999999998}"
      ]
     },
     "execution_count": 180,
     "metadata": {},
     "output_type": "execute_result"
    }
   ],
   "source": [
    "json.loads(data)[0]"
   ]
  },
  {
   "cell_type": "code",
   "execution_count": 22,
   "metadata": {},
   "outputs": [
    {
     "data": {
      "text/plain": [
       "<OSMPythonTools.overpass.OverpassResult at 0x28a9452ce50>"
      ]
     },
     "execution_count": 22,
     "metadata": {},
     "output_type": "execute_result"
    }
   ],
   "source": [
    "from OSMPythonTools.overpass import Overpass\n",
    "overpass = Overpass()\n",
    "result = overpass.query('way[\"name\"=\"Stephansdom\"]; out body;')\n",
    "result"
   ]
  },
  {
   "cell_type": "code",
   "execution_count": null,
   "metadata": {},
   "outputs": [],
   "source": []
  },
  {
   "cell_type": "markdown",
   "metadata": {},
   "source": [
    "## XML, read graphml"
   ]
  },
  {
   "cell_type": "code",
   "execution_count": 96,
   "metadata": {},
   "outputs": [],
   "source": [
    "import xml.etree.ElementTree as ET\n",
    "tree = ET.parse('krasnodar_graphml.graphml')\n",
    "root = tree.getroot()"
   ]
  },
  {
   "cell_type": "code",
   "execution_count": 231,
   "metadata": {},
   "outputs": [
    {
     "data": {
      "text/plain": [
       "array([[0., 0., 0.],\n",
       "       [0., 0., 0.],\n",
       "       [0., 0., 0.],\n",
       "       ...,\n",
       "       [0., 0., 0.],\n",
       "       [0., 0., 0.],\n",
       "       [0., 0., 0.]])"
      ]
     },
     "execution_count": 231,
     "metadata": {},
     "output_type": "execute_result"
    }
   ],
   "source": [
    "objects = np.zeros((len(root), 3))\n",
    "objects"
   ]
  },
  {
   "cell_type": "code",
   "execution_count": 232,
   "metadata": {},
   "outputs": [],
   "source": [
    "i = 0\n",
    "for child in root:\n",
    "    objects[i][0] =  child[0].text\n",
    "    objects[i][1] =  child[1].text\n",
    "    objects[i][2] =  child.attrib['id']\n",
    "\n",
    "    i += 1\n",
    "    #print(child.attrib['id'])\n",
    "    #print('lat', child[0].text)\n",
    "    #print(\"lon\", child[1].text)\n",
    "        \n",
    "#>>> for child in root:\n",
    "#...     print(child.tag, child.attrib)"
   ]
  },
  {
   "cell_type": "code",
   "execution_count": 235,
   "metadata": {},
   "outputs": [],
   "source": [
    "objects = objects[np.argsort(objects[:, 0])]\n",
    "\n",
    "# objects[objects[:, 1].argsort()]\n",
    "# sort by column"
   ]
  },
  {
   "cell_type": "code",
   "execution_count": 237,
   "metadata": {},
   "outputs": [
    {
     "data": {
      "text/plain": [
       "array([[4.49691715e+01, 3.90221521e+01, 2.26828671e+09],\n",
       "       [4.49692383e+01, 3.90226379e+01, 2.26828671e+09],\n",
       "       [4.49692545e+01, 3.90225556e+01, 2.26828674e+09],\n",
       "       ...,\n",
       "       [4.51278176e+01, 3.89972184e+01, 4.98413716e+08],\n",
       "       [4.51278756e+01, 3.89978584e+01, 2.50895155e+09],\n",
       "       [4.51278817e+01, 3.89979532e+01, 4.54642376e+08]])"
      ]
     },
     "execution_count": 237,
     "metadata": {},
     "output_type": "execute_result"
    }
   ],
   "source": [
    "objects"
   ]
  },
  {
   "cell_type": "code",
   "execution_count": 247,
   "metadata": {},
   "outputs": [
    {
     "data": {
      "text/html": [
       "<div>\n",
       "<style scoped>\n",
       "    .dataframe tbody tr th:only-of-type {\n",
       "        vertical-align: middle;\n",
       "    }\n",
       "\n",
       "    .dataframe tbody tr th {\n",
       "        vertical-align: top;\n",
       "    }\n",
       "\n",
       "    .dataframe thead th {\n",
       "        text-align: right;\n",
       "    }\n",
       "</style>\n",
       "<table border=\"1\" class=\"dataframe\">\n",
       "  <thead>\n",
       "    <tr style=\"text-align: right;\">\n",
       "      <th></th>\n",
       "      <th>0</th>\n",
       "      <th>1</th>\n",
       "      <th>2</th>\n",
       "    </tr>\n",
       "  </thead>\n",
       "  <tbody>\n",
       "    <tr>\n",
       "      <th>0</th>\n",
       "      <td>44.969172</td>\n",
       "      <td>39.022152</td>\n",
       "      <td>2.268287e+09</td>\n",
       "    </tr>\n",
       "    <tr>\n",
       "      <th>1</th>\n",
       "      <td>44.969238</td>\n",
       "      <td>39.022638</td>\n",
       "      <td>2.268287e+09</td>\n",
       "    </tr>\n",
       "    <tr>\n",
       "      <th>2</th>\n",
       "      <td>44.969254</td>\n",
       "      <td>39.022556</td>\n",
       "      <td>2.268287e+09</td>\n",
       "    </tr>\n",
       "    <tr>\n",
       "      <th>3</th>\n",
       "      <td>44.969336</td>\n",
       "      <td>39.022987</td>\n",
       "      <td>2.268287e+09</td>\n",
       "    </tr>\n",
       "    <tr>\n",
       "      <th>4</th>\n",
       "      <td>44.969416</td>\n",
       "      <td>39.024007</td>\n",
       "      <td>2.268287e+09</td>\n",
       "    </tr>\n",
       "    <tr>\n",
       "      <th>...</th>\n",
       "      <td>...</td>\n",
       "      <td>...</td>\n",
       "      <td>...</td>\n",
       "    </tr>\n",
       "    <tr>\n",
       "      <th>41580</th>\n",
       "      <td>45.127638</td>\n",
       "      <td>38.998130</td>\n",
       "      <td>1.860020e+09</td>\n",
       "    </tr>\n",
       "    <tr>\n",
       "      <th>41581</th>\n",
       "      <td>45.127787</td>\n",
       "      <td>38.998098</td>\n",
       "      <td>9.449823e+08</td>\n",
       "    </tr>\n",
       "    <tr>\n",
       "      <th>41582</th>\n",
       "      <td>45.127818</td>\n",
       "      <td>38.997218</td>\n",
       "      <td>4.984137e+08</td>\n",
       "    </tr>\n",
       "    <tr>\n",
       "      <th>41583</th>\n",
       "      <td>45.127876</td>\n",
       "      <td>38.997858</td>\n",
       "      <td>2.508952e+09</td>\n",
       "    </tr>\n",
       "    <tr>\n",
       "      <th>41584</th>\n",
       "      <td>45.127882</td>\n",
       "      <td>38.997953</td>\n",
       "      <td>4.546424e+08</td>\n",
       "    </tr>\n",
       "  </tbody>\n",
       "</table>\n",
       "<p>41585 rows × 3 columns</p>\n",
       "</div>"
      ],
      "text/plain": [
       "               0          1             2\n",
       "0      44.969172  39.022152  2.268287e+09\n",
       "1      44.969238  39.022638  2.268287e+09\n",
       "2      44.969254  39.022556  2.268287e+09\n",
       "3      44.969336  39.022987  2.268287e+09\n",
       "4      44.969416  39.024007  2.268287e+09\n",
       "...          ...        ...           ...\n",
       "41580  45.127638  38.998130  1.860020e+09\n",
       "41581  45.127787  38.998098  9.449823e+08\n",
       "41582  45.127818  38.997218  4.984137e+08\n",
       "41583  45.127876  38.997858  2.508952e+09\n",
       "41584  45.127882  38.997953  4.546424e+08\n",
       "\n",
       "[41585 rows x 3 columns]"
      ]
     },
     "execution_count": 247,
     "metadata": {},
     "output_type": "execute_result"
    }
   ],
   "source": [
    "#objects = objects.T\n",
    "objects_df = pd.DataFrame(objects)\n",
    "objects_df"
   ]
  },
  {
   "cell_type": "markdown",
   "metadata": {},
   "source": [
    "## json, matching"
   ]
  },
  {
   "cell_type": "code",
   "execution_count": 188,
   "metadata": {},
   "outputs": [],
   "source": [
    "\n",
    "data = {}\n",
    "data['people'] = []\n",
    "data['people'].append({\n",
    "    'name': 'Scott',\n",
    "    'website': 'stackabuse.com',\n",
    "    'from': 'Nebraska'\n",
    "})\n",
    "data['people'].append({\n",
    "    'name': 'Larry',\n",
    "    'website': 'google.com',\n",
    "    'from': 'Michigan'\n",
    "})\n",
    "data['people'].append({\n",
    "    'name': 'Tim',\n",
    "    'website': 'apple.com',\n",
    "    'from': 'Alabama'\n",
    "})\n",
    "\n",
    "with open('data.json', 'w') as outfile:\n",
    "    json.dump(data, outfile)"
   ]
  },
  {
   "cell_type": "code",
   "execution_count": 261,
   "metadata": {},
   "outputs": [
    {
     "data": {
      "text/plain": [
       "68696"
      ]
     },
     "execution_count": 261,
     "metadata": {},
     "output_type": "execute_result"
    }
   ],
   "source": [
    "with open('matching_to_graph.json') as json_file:\n",
    "    matching_data = json.load(json_file)\n",
    "matching_data[ '1000182980']"
   ]
  },
  {
   "cell_type": "code",
   "execution_count": 250,
   "metadata": {},
   "outputs": [
    {
     "data": {
      "text/plain": [
       "60038"
      ]
     },
     "execution_count": 250,
     "metadata": {},
     "output_type": "execute_result"
    }
   ],
   "source": [
    "matching_data[str(int(objects_df.iloc[56][2]))]"
   ]
  },
  {
   "cell_type": "code",
   "execution_count": 266,
   "metadata": {},
   "outputs": [
    {
     "data": {
      "text/html": [
       "<div>\n",
       "<style scoped>\n",
       "    .dataframe tbody tr th:only-of-type {\n",
       "        vertical-align: middle;\n",
       "    }\n",
       "\n",
       "    .dataframe tbody tr th {\n",
       "        vertical-align: top;\n",
       "    }\n",
       "\n",
       "    .dataframe thead th {\n",
       "        text-align: right;\n",
       "    }\n",
       "</style>\n",
       "<table border=\"1\" class=\"dataframe\">\n",
       "  <thead>\n",
       "    <tr style=\"text-align: right;\">\n",
       "      <th></th>\n",
       "      <th>address</th>\n",
       "      <th>count</th>\n",
       "      <th>v</th>\n",
       "      <th>freq</th>\n",
       "      <th>volume</th>\n",
       "      <th>lat</th>\n",
       "      <th>lon</th>\n",
       "    </tr>\n",
       "  </thead>\n",
       "  <tbody>\n",
       "    <tr>\n",
       "      <th>0</th>\n",
       "      <td>40 ЛЕТ ПОБЕДЫ 16</td>\n",
       "      <td>4.0</td>\n",
       "      <td>0.75</td>\n",
       "      <td>1.0</td>\n",
       "      <td>3.00</td>\n",
       "      <td>45.054699</td>\n",
       "      <td>38.999636</td>\n",
       "    </tr>\n",
       "    <tr>\n",
       "      <th>1</th>\n",
       "      <td>40 ЛЕТ ПОБЕДЫ 4</td>\n",
       "      <td>4.0</td>\n",
       "      <td>0.75</td>\n",
       "      <td>1.0</td>\n",
       "      <td>3.00</td>\n",
       "      <td>45.054026</td>\n",
       "      <td>38.991491</td>\n",
       "    </tr>\n",
       "    <tr>\n",
       "      <th>2</th>\n",
       "      <td>5-Й АРТЕЛЬНЫЙ ПРОЕЗД, ДОМ № 21</td>\n",
       "      <td>5.0</td>\n",
       "      <td>1.10</td>\n",
       "      <td>1.0</td>\n",
       "      <td>5.50</td>\n",
       "      <td>45.011292</td>\n",
       "      <td>39.029004</td>\n",
       "    </tr>\n",
       "    <tr>\n",
       "      <th>3</th>\n",
       "      <td>АДЫГЕЙСКАЯ НАБЕРЕЖНАЯ 128</td>\n",
       "      <td>3.0</td>\n",
       "      <td>0.75</td>\n",
       "      <td>1.0</td>\n",
       "      <td>2.25</td>\n",
       "      <td>45.014636</td>\n",
       "      <td>39.000797</td>\n",
       "    </tr>\n",
       "    <tr>\n",
       "      <th>4</th>\n",
       "      <td>АДЫГЕЙСКАЯ НАБЕРЕЖНАЯ 153</td>\n",
       "      <td>3.0</td>\n",
       "      <td>0.75</td>\n",
       "      <td>1.0</td>\n",
       "      <td>2.25</td>\n",
       "      <td>45.014292</td>\n",
       "      <td>39.003210</td>\n",
       "    </tr>\n",
       "    <tr>\n",
       "      <th>...</th>\n",
       "      <td>...</td>\n",
       "      <td>...</td>\n",
       "      <td>...</td>\n",
       "      <td>...</td>\n",
       "      <td>...</td>\n",
       "      <td>...</td>\n",
       "      <td>...</td>\n",
       "    </tr>\n",
       "    <tr>\n",
       "      <th>2142</th>\n",
       "      <td>ЯНА ПОЛУЯНА 42</td>\n",
       "      <td>6.0</td>\n",
       "      <td>0.75</td>\n",
       "      <td>2.0</td>\n",
       "      <td>4.50</td>\n",
       "      <td>45.063076</td>\n",
       "      <td>38.956235</td>\n",
       "    </tr>\n",
       "    <tr>\n",
       "      <th>2143</th>\n",
       "      <td>ЯРОСЛАВСКАЯ 118</td>\n",
       "      <td>3.0</td>\n",
       "      <td>0.75</td>\n",
       "      <td>1.0</td>\n",
       "      <td>2.25</td>\n",
       "      <td>45.087812</td>\n",
       "      <td>38.985663</td>\n",
       "    </tr>\n",
       "    <tr>\n",
       "      <th>2144</th>\n",
       "      <td>ЯРОСЛАВСКАЯ 30</td>\n",
       "      <td>2.0</td>\n",
       "      <td>0.75</td>\n",
       "      <td>1.0</td>\n",
       "      <td>1.50</td>\n",
       "      <td>45.079395</td>\n",
       "      <td>38.983767</td>\n",
       "    </tr>\n",
       "    <tr>\n",
       "      <th>2146</th>\n",
       "      <td>ЯРОСЛАВСКАЯ 68</td>\n",
       "      <td>2.0</td>\n",
       "      <td>0.75</td>\n",
       "      <td>1.0</td>\n",
       "      <td>1.50</td>\n",
       "      <td>45.083335</td>\n",
       "      <td>38.984642</td>\n",
       "    </tr>\n",
       "    <tr>\n",
       "      <th>2147</th>\n",
       "      <td>ЯРОСЛАВСКАЯ 86</td>\n",
       "      <td>2.0</td>\n",
       "      <td>0.75</td>\n",
       "      <td>1.0</td>\n",
       "      <td>1.50</td>\n",
       "      <td>45.084732</td>\n",
       "      <td>38.984958</td>\n",
       "    </tr>\n",
       "  </tbody>\n",
       "</table>\n",
       "<p>1476 rows × 7 columns</p>\n",
       "</div>"
      ],
      "text/plain": [
       "                             address  count     v  freq  volume        lat  \\\n",
       "0                   40 ЛЕТ ПОБЕДЫ 16    4.0  0.75   1.0    3.00  45.054699   \n",
       "1                    40 ЛЕТ ПОБЕДЫ 4    4.0  0.75   1.0    3.00  45.054026   \n",
       "2     5-Й АРТЕЛЬНЫЙ ПРОЕЗД, ДОМ № 21    5.0  1.10   1.0    5.50  45.011292   \n",
       "3          АДЫГЕЙСКАЯ НАБЕРЕЖНАЯ 128    3.0  0.75   1.0    2.25  45.014636   \n",
       "4          АДЫГЕЙСКАЯ НАБЕРЕЖНАЯ 153    3.0  0.75   1.0    2.25  45.014292   \n",
       "...                              ...    ...   ...   ...     ...        ...   \n",
       "2142                  ЯНА ПОЛУЯНА 42    6.0  0.75   2.0    4.50  45.063076   \n",
       "2143                 ЯРОСЛАВСКАЯ 118    3.0  0.75   1.0    2.25  45.087812   \n",
       "2144                  ЯРОСЛАВСКАЯ 30    2.0  0.75   1.0    1.50  45.079395   \n",
       "2146                  ЯРОСЛАВСКАЯ 68    2.0  0.75   1.0    1.50  45.083335   \n",
       "2147                  ЯРОСЛАВСКАЯ 86    2.0  0.75   1.0    1.50  45.084732   \n",
       "\n",
       "            lon  \n",
       "0     38.999636  \n",
       "1     38.991491  \n",
       "2     39.029004  \n",
       "3     39.000797  \n",
       "4     39.003210  \n",
       "...         ...  \n",
       "2142  38.956235  \n",
       "2143  38.985663  \n",
       "2144  38.983767  \n",
       "2146  38.984642  \n",
       "2147  38.984958  \n",
       "\n",
       "[1476 rows x 7 columns]"
      ]
     },
     "execution_count": 266,
     "metadata": {},
     "output_type": "execute_result"
    }
   ],
   "source": [
    "df"
   ]
  },
  {
   "cell_type": "code",
   "execution_count": 275,
   "metadata": {},
   "outputs": [
    {
     "name": "stdout",
     "output_type": "stream",
     "text": [
      "address    АДЫГЕЙСКАЯ НАБЕРЕЖНАЯ 173\n",
      "count                              2\n",
      "v                               0.75\n",
      "freq                               1\n",
      "volume                           1.5\n",
      "lat                          45.0138\n",
      "lon                          39.0051\n",
      "Name: 5, dtype: object\n"
     ]
    },
    {
     "name": "stderr",
     "output_type": "stream",
     "text": [
      "<ipython-input-275-afc3fad8196b>:5: UserWarning: Boolean Series key will be reindexed to match DataFrame index.\n",
      "  objects_df[abs(objects_df[0] - lat) < 0.0005][abs(objects_df[1] - lon) < 0.0005]\n"
     ]
    },
    {
     "data": {
      "text/html": [
       "<div>\n",
       "<style scoped>\n",
       "    .dataframe tbody tr th:only-of-type {\n",
       "        vertical-align: middle;\n",
       "    }\n",
       "\n",
       "    .dataframe tbody tr th {\n",
       "        vertical-align: top;\n",
       "    }\n",
       "\n",
       "    .dataframe thead th {\n",
       "        text-align: right;\n",
       "    }\n",
       "</style>\n",
       "<table border=\"1\" class=\"dataframe\">\n",
       "  <thead>\n",
       "    <tr style=\"text-align: right;\">\n",
       "      <th></th>\n",
       "      <th>0</th>\n",
       "      <th>1</th>\n",
       "      <th>2</th>\n",
       "    </tr>\n",
       "  </thead>\n",
       "  <tbody>\n",
       "    <tr>\n",
       "      <th>4359</th>\n",
       "      <td>45.013441</td>\n",
       "      <td>39.005243</td>\n",
       "      <td>2.961733e+08</td>\n",
       "    </tr>\n",
       "    <tr>\n",
       "      <th>4419</th>\n",
       "      <td>45.013536</td>\n",
       "      <td>39.005398</td>\n",
       "      <td>3.767317e+09</td>\n",
       "    </tr>\n",
       "  </tbody>\n",
       "</table>\n",
       "</div>"
      ],
      "text/plain": [
       "              0          1             2\n",
       "4359  45.013441  39.005243  2.961733e+08\n",
       "4419  45.013536  39.005398  3.767317e+09"
      ]
     },
     "execution_count": 275,
     "metadata": {},
     "output_type": "execute_result"
    }
   ],
   "source": [
    "row = df.iloc[5]\n",
    "print(row)\n",
    "lat = row['lat']\n",
    "lon = row['lon']\n",
    "objects_df[abs(objects_df[0] - lat) < 0.0005][abs(objects_df[1] - lon) < 0.0005]"
   ]
  },
  {
   "cell_type": "code",
   "execution_count": 323,
   "metadata": {},
   "outputs": [
    {
     "name": "stdout",
     "output_type": "stream",
     "text": [
      "address    КУБАНСКАЯ 48\n",
      "count                 4\n",
      "v                  0.75\n",
      "freq                  1\n",
      "volume                3\n",
      "lat             45.1354\n",
      "lon             39.0347\n",
      "Name: 181, dtype: object\n",
      "i=  4\n"
     ]
    },
    {
     "name": "stderr",
     "output_type": "stream",
     "text": [
      "<ipython-input-323-220ce29cfeab>:5: UserWarning: Boolean Series key will be reindexed to match DataFrame index.\n",
      "  l = len(objects_df[abs(objects_df[0] - lat) < 0.0001][abs(objects_df[1] - lon) < 0.0001])\n",
      "<ipython-input-323-220ce29cfeab>:5: UserWarning: Boolean Series key will be reindexed to match DataFrame index.\n",
      "  l = len(objects_df[abs(objects_df[0] - lat) < 0.0001][abs(objects_df[1] - lon) < 0.0001])\n",
      "<ipython-input-323-220ce29cfeab>:5: UserWarning: Boolean Series key will be reindexed to match DataFrame index.\n",
      "  l = len(objects_df[abs(objects_df[0] - lat) < 0.0001][abs(objects_df[1] - lon) < 0.0001])\n",
      "<ipython-input-323-220ce29cfeab>:5: UserWarning: Boolean Series key will be reindexed to match DataFrame index.\n",
      "  l = len(objects_df[abs(objects_df[0] - lat) < 0.0001][abs(objects_df[1] - lon) < 0.0001])\n"
     ]
    }
   ],
   "source": [
    "i = 0\n",
    "for j in range(len(df)):\n",
    "    lat = df.iloc[j]['lat']\n",
    "    lon = df.iloc[j]['lon']\n",
    "    l = len(objects_df[abs(objects_df[0] - lat) < 0.0001][abs(objects_df[1] - lon) < 0.0001])\n",
    "    i += 1\n",
    "    if l == 0:\n",
    "        print(row[1])\n",
    "        break\n",
    "        df.at[j, 'lat'] = 0\n",
    "        df.at[j, 'lon'] = 0\n",
    "print('i= ', i)"
   ]
  },
  {
   "cell_type": "code",
   "execution_count": 368,
   "metadata": {},
   "outputs": [],
   "source": [
    "df = pd.read_csv('file_data2.csv', sep = ';')"
   ]
  },
  {
   "cell_type": "code",
   "execution_count": 369,
   "metadata": {},
   "outputs": [],
   "source": [
    "for j in range(len(df)):\n",
    "    if df.iloc[j]['freq'] == 1:\n",
    "        df.at[j, 'freq'] = 7\n",
    "    elif df.iloc[j]['freq'] == 2:\n",
    "        df.at[j, 'freq'] = 4\n",
    "    elif df.iloc[j]['freq'] == 3:\n",
    "        df.at[j, 'freq'] = 3\n",
    "    elif df.iloc[j]['freq'] == 4:\n",
    "        df.at[j, 'freq'] = 2\n",
    "        "
   ]
  },
  {
   "cell_type": "code",
   "execution_count": 370,
   "metadata": {},
   "outputs": [
    {
     "data": {
      "text/html": [
       "<div>\n",
       "<style scoped>\n",
       "    .dataframe tbody tr th:only-of-type {\n",
       "        vertical-align: middle;\n",
       "    }\n",
       "\n",
       "    .dataframe tbody tr th {\n",
       "        vertical-align: top;\n",
       "    }\n",
       "\n",
       "    .dataframe thead th {\n",
       "        text-align: right;\n",
       "    }\n",
       "</style>\n",
       "<table border=\"1\" class=\"dataframe\">\n",
       "  <thead>\n",
       "    <tr style=\"text-align: right;\">\n",
       "      <th></th>\n",
       "      <th>address</th>\n",
       "      <th>count</th>\n",
       "      <th>v</th>\n",
       "      <th>freq</th>\n",
       "      <th>volume</th>\n",
       "      <th>lat</th>\n",
       "      <th>lon</th>\n",
       "    </tr>\n",
       "  </thead>\n",
       "  <tbody>\n",
       "    <tr>\n",
       "      <th>0</th>\n",
       "      <td>40 ЛЕТ ПОБЕДЫ 16</td>\n",
       "      <td>4.0</td>\n",
       "      <td>0.75</td>\n",
       "      <td>7.0</td>\n",
       "      <td>3.00</td>\n",
       "      <td>45.054699</td>\n",
       "      <td>38.999636</td>\n",
       "    </tr>\n",
       "    <tr>\n",
       "      <th>1</th>\n",
       "      <td>40 ЛЕТ ПОБЕДЫ 4</td>\n",
       "      <td>4.0</td>\n",
       "      <td>0.75</td>\n",
       "      <td>7.0</td>\n",
       "      <td>3.00</td>\n",
       "      <td>45.054026</td>\n",
       "      <td>38.991491</td>\n",
       "    </tr>\n",
       "    <tr>\n",
       "      <th>2</th>\n",
       "      <td>5-Й АРТЕЛЬНЫЙ ПРОЕЗД, ДОМ № 21</td>\n",
       "      <td>5.0</td>\n",
       "      <td>1.10</td>\n",
       "      <td>7.0</td>\n",
       "      <td>5.50</td>\n",
       "      <td>45.011292</td>\n",
       "      <td>39.029004</td>\n",
       "    </tr>\n",
       "    <tr>\n",
       "      <th>3</th>\n",
       "      <td>АДЫГЕЙСКАЯ НАБЕРЕЖНАЯ 128</td>\n",
       "      <td>3.0</td>\n",
       "      <td>0.75</td>\n",
       "      <td>7.0</td>\n",
       "      <td>2.25</td>\n",
       "      <td>45.014636</td>\n",
       "      <td>39.000797</td>\n",
       "    </tr>\n",
       "    <tr>\n",
       "      <th>4</th>\n",
       "      <td>АДЫГЕЙСКАЯ НАБЕРЕЖНАЯ 153</td>\n",
       "      <td>3.0</td>\n",
       "      <td>0.75</td>\n",
       "      <td>7.0</td>\n",
       "      <td>2.25</td>\n",
       "      <td>45.014292</td>\n",
       "      <td>39.003210</td>\n",
       "    </tr>\n",
       "    <tr>\n",
       "      <th>...</th>\n",
       "      <td>...</td>\n",
       "      <td>...</td>\n",
       "      <td>...</td>\n",
       "      <td>...</td>\n",
       "      <td>...</td>\n",
       "      <td>...</td>\n",
       "      <td>...</td>\n",
       "    </tr>\n",
       "    <tr>\n",
       "      <th>1471</th>\n",
       "      <td>ЯНА ПОЛУЯНА 42</td>\n",
       "      <td>6.0</td>\n",
       "      <td>0.75</td>\n",
       "      <td>4.0</td>\n",
       "      <td>4.50</td>\n",
       "      <td>45.063076</td>\n",
       "      <td>38.956235</td>\n",
       "    </tr>\n",
       "    <tr>\n",
       "      <th>1472</th>\n",
       "      <td>ЯРОСЛАВСКАЯ 118</td>\n",
       "      <td>3.0</td>\n",
       "      <td>0.75</td>\n",
       "      <td>7.0</td>\n",
       "      <td>2.25</td>\n",
       "      <td>45.087812</td>\n",
       "      <td>38.985663</td>\n",
       "    </tr>\n",
       "    <tr>\n",
       "      <th>1473</th>\n",
       "      <td>ЯРОСЛАВСКАЯ 30</td>\n",
       "      <td>2.0</td>\n",
       "      <td>0.75</td>\n",
       "      <td>7.0</td>\n",
       "      <td>1.50</td>\n",
       "      <td>45.079395</td>\n",
       "      <td>38.983767</td>\n",
       "    </tr>\n",
       "    <tr>\n",
       "      <th>1474</th>\n",
       "      <td>ЯРОСЛАВСКАЯ 68</td>\n",
       "      <td>2.0</td>\n",
       "      <td>0.75</td>\n",
       "      <td>7.0</td>\n",
       "      <td>1.50</td>\n",
       "      <td>45.083335</td>\n",
       "      <td>38.984642</td>\n",
       "    </tr>\n",
       "    <tr>\n",
       "      <th>1475</th>\n",
       "      <td>ЯРОСЛАВСКАЯ 86</td>\n",
       "      <td>2.0</td>\n",
       "      <td>0.75</td>\n",
       "      <td>7.0</td>\n",
       "      <td>1.50</td>\n",
       "      <td>45.084732</td>\n",
       "      <td>38.984958</td>\n",
       "    </tr>\n",
       "  </tbody>\n",
       "</table>\n",
       "<p>1476 rows × 7 columns</p>\n",
       "</div>"
      ],
      "text/plain": [
       "                             address  count     v  freq  volume        lat  \\\n",
       "0                   40 ЛЕТ ПОБЕДЫ 16    4.0  0.75   7.0    3.00  45.054699   \n",
       "1                    40 ЛЕТ ПОБЕДЫ 4    4.0  0.75   7.0    3.00  45.054026   \n",
       "2     5-Й АРТЕЛЬНЫЙ ПРОЕЗД, ДОМ № 21    5.0  1.10   7.0    5.50  45.011292   \n",
       "3          АДЫГЕЙСКАЯ НАБЕРЕЖНАЯ 128    3.0  0.75   7.0    2.25  45.014636   \n",
       "4          АДЫГЕЙСКАЯ НАБЕРЕЖНАЯ 153    3.0  0.75   7.0    2.25  45.014292   \n",
       "...                              ...    ...   ...   ...     ...        ...   \n",
       "1471                  ЯНА ПОЛУЯНА 42    6.0  0.75   4.0    4.50  45.063076   \n",
       "1472                 ЯРОСЛАВСКАЯ 118    3.0  0.75   7.0    2.25  45.087812   \n",
       "1473                  ЯРОСЛАВСКАЯ 30    2.0  0.75   7.0    1.50  45.079395   \n",
       "1474                  ЯРОСЛАВСКАЯ 68    2.0  0.75   7.0    1.50  45.083335   \n",
       "1475                  ЯРОСЛАВСКАЯ 86    2.0  0.75   7.0    1.50  45.084732   \n",
       "\n",
       "            lon  \n",
       "0     38.999636  \n",
       "1     38.991491  \n",
       "2     39.029004  \n",
       "3     39.000797  \n",
       "4     39.003210  \n",
       "...         ...  \n",
       "1471  38.956235  \n",
       "1472  38.985663  \n",
       "1473  38.983767  \n",
       "1474  38.984642  \n",
       "1475  38.984958  \n",
       "\n",
       "[1476 rows x 7 columns]"
      ]
     },
     "execution_count": 370,
     "metadata": {},
     "output_type": "execute_result"
    }
   ],
   "source": [
    "df"
   ]
  },
  {
   "cell_type": "code",
   "execution_count": null,
   "metadata": {},
   "outputs": [],
   "source": [
    "described = df.describe()"
   ]
  },
  {
   "cell_type": "code",
   "execution_count": 372,
   "metadata": {},
   "outputs": [],
   "source": [
    "df['lat'] = (df['lat'] - described['lat']['min'] - l/2) * 1000"
   ]
  },
  {
   "cell_type": "code",
   "execution_count": 373,
   "metadata": {},
   "outputs": [],
   "source": [
    "df['lon'] = (df['lon'] - described['lon']['min'] - l/2) * 1000"
   ]
  },
  {
   "cell_type": "code",
   "execution_count": 344,
   "metadata": {},
   "outputs": [],
   "source": [
    "described = df[['lat', 'lon']].describe()"
   ]
  },
  {
   "cell_type": "code",
   "execution_count": 371,
   "metadata": {},
   "outputs": [],
   "source": []
  },
  {
   "cell_type": "code",
   "execution_count": 359,
   "metadata": {},
   "outputs": [],
   "source": [
    "l1 = described['lat']['max'] - described['lat']['min']"
   ]
  },
  {
   "cell_type": "code",
   "execution_count": 360,
   "metadata": {},
   "outputs": [],
   "source": [
    "l2 = described['lon']['max'] - described['lon']['min']"
   ]
  },
  {
   "cell_type": "code",
   "execution_count": 374,
   "metadata": {},
   "outputs": [
    {
     "data": {
      "text/html": [
       "<div>\n",
       "<style scoped>\n",
       "    .dataframe tbody tr th:only-of-type {\n",
       "        vertical-align: middle;\n",
       "    }\n",
       "\n",
       "    .dataframe tbody tr th {\n",
       "        vertical-align: top;\n",
       "    }\n",
       "\n",
       "    .dataframe thead th {\n",
       "        text-align: right;\n",
       "    }\n",
       "</style>\n",
       "<table border=\"1\" class=\"dataframe\">\n",
       "  <thead>\n",
       "    <tr style=\"text-align: right;\">\n",
       "      <th></th>\n",
       "      <th>address</th>\n",
       "      <th>count</th>\n",
       "      <th>v</th>\n",
       "      <th>freq</th>\n",
       "      <th>volume</th>\n",
       "      <th>lat</th>\n",
       "      <th>lon</th>\n",
       "    </tr>\n",
       "  </thead>\n",
       "  <tbody>\n",
       "    <tr>\n",
       "      <th>0</th>\n",
       "      <td>40 ЛЕТ ПОБЕДЫ 16</td>\n",
       "      <td>4.0</td>\n",
       "      <td>0.75</td>\n",
       "      <td>7.0</td>\n",
       "      <td>3.00</td>\n",
       "      <td>-13.00745</td>\n",
       "      <td>70.079492</td>\n",
       "    </tr>\n",
       "    <tr>\n",
       "      <th>1</th>\n",
       "      <td>40 ЛЕТ ПОБЕДЫ 4</td>\n",
       "      <td>4.0</td>\n",
       "      <td>0.75</td>\n",
       "      <td>7.0</td>\n",
       "      <td>3.00</td>\n",
       "      <td>-13.67995</td>\n",
       "      <td>61.934726</td>\n",
       "    </tr>\n",
       "    <tr>\n",
       "      <th>2</th>\n",
       "      <td>5-Й АРТЕЛЬНЫЙ ПРОЕЗД, ДОМ № 21</td>\n",
       "      <td>5.0</td>\n",
       "      <td>1.10</td>\n",
       "      <td>7.0</td>\n",
       "      <td>5.50</td>\n",
       "      <td>-56.41430</td>\n",
       "      <td>99.447592</td>\n",
       "    </tr>\n",
       "    <tr>\n",
       "      <th>3</th>\n",
       "      <td>АДЫГЕЙСКАЯ НАБЕРЕЖНАЯ 128</td>\n",
       "      <td>3.0</td>\n",
       "      <td>0.75</td>\n",
       "      <td>7.0</td>\n",
       "      <td>2.25</td>\n",
       "      <td>-53.06995</td>\n",
       "      <td>71.240202</td>\n",
       "    </tr>\n",
       "    <tr>\n",
       "      <th>4</th>\n",
       "      <td>АДЫГЕЙСКАЯ НАБЕРЕЖНАЯ 153</td>\n",
       "      <td>3.0</td>\n",
       "      <td>0.75</td>\n",
       "      <td>7.0</td>\n",
       "      <td>2.25</td>\n",
       "      <td>-53.41440</td>\n",
       "      <td>73.653192</td>\n",
       "    </tr>\n",
       "    <tr>\n",
       "      <th>...</th>\n",
       "      <td>...</td>\n",
       "      <td>...</td>\n",
       "      <td>...</td>\n",
       "      <td>...</td>\n",
       "      <td>...</td>\n",
       "      <td>...</td>\n",
       "      <td>...</td>\n",
       "    </tr>\n",
       "    <tr>\n",
       "      <th>1471</th>\n",
       "      <td>ЯНА ПОЛУЯНА 42</td>\n",
       "      <td>6.0</td>\n",
       "      <td>0.75</td>\n",
       "      <td>4.0</td>\n",
       "      <td>4.50</td>\n",
       "      <td>-4.63010</td>\n",
       "      <td>26.678763</td>\n",
       "    </tr>\n",
       "    <tr>\n",
       "      <th>1472</th>\n",
       "      <td>ЯРОСЛАВСКАЯ 118</td>\n",
       "      <td>3.0</td>\n",
       "      <td>0.75</td>\n",
       "      <td>7.0</td>\n",
       "      <td>2.25</td>\n",
       "      <td>20.10590</td>\n",
       "      <td>56.106269</td>\n",
       "    </tr>\n",
       "    <tr>\n",
       "      <th>1473</th>\n",
       "      <td>ЯРОСЛАВСКАЯ 30</td>\n",
       "      <td>2.0</td>\n",
       "      <td>0.75</td>\n",
       "      <td>7.0</td>\n",
       "      <td>1.50</td>\n",
       "      <td>11.68905</td>\n",
       "      <td>54.210606</td>\n",
       "    </tr>\n",
       "    <tr>\n",
       "      <th>1474</th>\n",
       "      <td>ЯРОСЛАВСКАЯ 68</td>\n",
       "      <td>2.0</td>\n",
       "      <td>0.75</td>\n",
       "      <td>7.0</td>\n",
       "      <td>1.50</td>\n",
       "      <td>15.62890</td>\n",
       "      <td>55.085464</td>\n",
       "    </tr>\n",
       "    <tr>\n",
       "      <th>1475</th>\n",
       "      <td>ЯРОСЛАВСКАЯ 86</td>\n",
       "      <td>2.0</td>\n",
       "      <td>0.75</td>\n",
       "      <td>7.0</td>\n",
       "      <td>1.50</td>\n",
       "      <td>17.02555</td>\n",
       "      <td>55.401687</td>\n",
       "    </tr>\n",
       "  </tbody>\n",
       "</table>\n",
       "<p>1476 rows × 7 columns</p>\n",
       "</div>"
      ],
      "text/plain": [
       "                             address  count     v  freq  volume       lat  \\\n",
       "0                   40 ЛЕТ ПОБЕДЫ 16    4.0  0.75   7.0    3.00 -13.00745   \n",
       "1                    40 ЛЕТ ПОБЕДЫ 4    4.0  0.75   7.0    3.00 -13.67995   \n",
       "2     5-Й АРТЕЛЬНЫЙ ПРОЕЗД, ДОМ № 21    5.0  1.10   7.0    5.50 -56.41430   \n",
       "3          АДЫГЕЙСКАЯ НАБЕРЕЖНАЯ 128    3.0  0.75   7.0    2.25 -53.06995   \n",
       "4          АДЫГЕЙСКАЯ НАБЕРЕЖНАЯ 153    3.0  0.75   7.0    2.25 -53.41440   \n",
       "...                              ...    ...   ...   ...     ...       ...   \n",
       "1471                  ЯНА ПОЛУЯНА 42    6.0  0.75   4.0    4.50  -4.63010   \n",
       "1472                 ЯРОСЛАВСКАЯ 118    3.0  0.75   7.0    2.25  20.10590   \n",
       "1473                  ЯРОСЛАВСКАЯ 30    2.0  0.75   7.0    1.50  11.68905   \n",
       "1474                  ЯРОСЛАВСКАЯ 68    2.0  0.75   7.0    1.50  15.62890   \n",
       "1475                  ЯРОСЛАВСКАЯ 86    2.0  0.75   7.0    1.50  17.02555   \n",
       "\n",
       "            lon  \n",
       "0     70.079492  \n",
       "1     61.934726  \n",
       "2     99.447592  \n",
       "3     71.240202  \n",
       "4     73.653192  \n",
       "...         ...  \n",
       "1471  26.678763  \n",
       "1472  56.106269  \n",
       "1473  54.210606  \n",
       "1474  55.085464  \n",
       "1475  55.401687  \n",
       "\n",
       "[1476 rows x 7 columns]"
      ]
     },
     "execution_count": 374,
     "metadata": {},
     "output_type": "execute_result"
    }
   ],
   "source": [
    "df"
   ]
  },
  {
   "cell_type": "code",
   "execution_count": 375,
   "metadata": {},
   "outputs": [],
   "source": [
    "df.drop(['address', 'count', 'v'], axis=1).to_csv('cpp_data.csv', index = False, sep = ' ')"
   ]
  },
  {
   "cell_type": "code",
   "execution_count": null,
   "metadata": {},
   "outputs": [],
   "source": []
  },
  {
   "cell_type": "markdown",
   "metadata": {},
   "source": [
    "## TEST"
   ]
  },
  {
   "cell_type": "code",
   "execution_count": null,
   "metadata": {},
   "outputs": [],
   "source": []
  },
  {
   "cell_type": "code",
   "execution_count": 6,
   "metadata": {},
   "outputs": [],
   "source": [
    "df = pd.read_csv('data_vertex_test.csv', sep = ' ')"
   ]
  },
  {
   "cell_type": "code",
   "execution_count": 9,
   "metadata": {},
   "outputs": [],
   "source": [
    "X = df['lat']\n",
    "Y = df['lon']"
   ]
  },
  {
   "cell_type": "code",
   "execution_count": 10,
   "metadata": {},
   "outputs": [
    {
     "data": {
      "text/plain": [
       "<matplotlib.collections.PathCollection at 0x20f5d625b20>"
      ]
     },
     "execution_count": 10,
     "metadata": {},
     "output_type": "execute_result"
    },
    {
     "data": {
      "image/png": "[encoded data removed]",
      "text/plain": [
       "<Figure size 600x600 with 1 Axes>"
      ]
     },
     "metadata": {
      "needs_background": "light"
     },
     "output_type": "display_data"
    }
   ],
   "source": [
    "fig = plt.figure(figsize=(6,6), dpi=100)\n",
    "\n",
    "scatter(X,Y)"
   ]
  },
  {
   "cell_type": "code",
   "execution_count": 13,
   "metadata": {},
   "outputs": [],
   "source": [
    "def get_routs(routs_index):\n",
    "    routs = []\n",
    "    for rout in routs_index:\n",
    "        rout_X = []\n",
    "        rout_Y = []\n",
    "        for vertex in rout:\n",
    "            rout_X.append(X[vertex])\n",
    "            rout_Y.append(Y[vertex])\n",
    "        routs.append([rout_X, rout_Y])\n",
    "    return routs"
   ]
  },
  {
   "cell_type": "code",
   "execution_count": 14,
   "metadata": {},
   "outputs": [
    {
     "data": {
      "image/png": "[encoded data removed]",
      "text/plain": [
       "<Figure size 600x600 with 1 Axes>"
      ]
     },
     "metadata": {
      "needs_background": "light"
     },
     "output_type": "display_data"
    }
   ],
   "source": [
    "routs_index = [[0, 27, 31, 1, 47, 2, 0,0],\n",
    "[0, 28, 30, 29, 40, 39, 41, 42, 25, 20, 19, 17, 16, 18, 0,0],\n",
    "[0, 24, 23, 22, 21, 15, 26, 36, 48, 14, 11, 0,0],\n",
    "[0, 49, 50, 37, 38, 35, 8, 9, 10, 4, 5, 6, 7, 32, 33, 0,0],\n",
    "[0, 34, 3, 43, 44, 46, 13, 12, 45, 0,0]]\n",
    "rout_X = []\n",
    "rout_Y = []\n",
    "\n",
    "fig = plt.figure(figsize=(6,6), dpi=100)\n",
    "\n",
    "routs1 = get_routs(routs_index)\n",
    "scatter(X,Y)\n",
    "for rout in routs1:\n",
    "    plt.plot(rout[0], rout[1])\n",
    "# lenght: 2424.16"
   ]
  },
  {
   "cell_type": "code",
   "execution_count": 15,
   "metadata": {},
   "outputs": [
    {
     "data": {
      "image/png": "[encoded data removed]",
      "text/plain": [
       "<Figure size 600x600 with 1 Axes>"
      ]
     },
     "metadata": {
      "needs_background": "light"
     },
     "output_type": "display_data"
    }
   ],
   "source": [
    "routs_index = [[0, 29, 30, 31, 2, 47, 0, 0],\n",
    "[0, 28, 27, 41, 39, 40, 42, 18, 16, 17, 20, 25, 19, 1, 0, 0],\n",
    "[0, 48, 32, 33, 43, 14, 3, 46, 45, 0, 0],\n",
    "[0, 8, 9, 10, 4, 5, 6, 7, 44, 13, 11, 12, 34, 0, 0],\n",
    "[0, 49, 50, 37, 38, 35, 36, 21, 26, 15, 22, 23, 24, 0, 0]]\n",
    "rout_X = []\n",
    "rout_Y = []\n",
    "\n",
    "fig = plt.figure(figsize=(6,6), dpi=100)\n",
    "\n",
    "routs1 = get_routs(routs_index)\n",
    "scatter(X,Y)\n",
    "for rout in routs1:\n",
    "    plt.plot(rout[0], rout[1])\n",
    "# lenght: 2422.59"
   ]
  },
  {
   "cell_type": "code",
   "execution_count": 18,
   "metadata": {},
   "outputs": [
    {
     "data": {
      "image/png": "[encoded data removed]",
      "text/plain": [
       "<Figure size 600x600 with 1 Axes>"
      ]
     },
     "metadata": {
      "needs_background": "light"
     },
     "output_type": "display_data"
    }
   ],
   "source": [
    "routs_index = [[0, 30, 29, 31, 1, 47, 0, 0],\n",
    "[0, 28, 27, 39, 40, 41, 42, 17, 16, 18, 19, 20, 25, 2, 0, 0],\n",
    "[0, 24, 23, 22, 26, 15, 21, 36, 38, 35, 48, 0, 0],\n",
    "[0, 49, 50, 37, 8, 9, 10, 4, 5, 6, 7, 32, 33, 34, 3, 0, 0],\n",
    "[0, 45, 46, 44, 12, 11, 13, 14, 43, 0, 0]]\n",
    "rout_X = []\n",
    "rout_Y = []\n",
    "\n",
    "fig = plt.figure(figsize=(6,6), dpi=100)\n",
    "\n",
    "routs1 = get_routs(routs_index)\n",
    "scatter(X,Y)\n",
    "for rout in routs1:\n",
    "    plt.plot(rout[0], rout[1])\n",
    "# lenght: 955.544\n",
    "# 30 sec"
   ]
  },
  {
   "cell_type": "code",
   "execution_count": 19,
   "metadata": {},
   "outputs": [
    {
     "data": {
      "image/png": "[encoded data removed]",
      "text/plain": [
       "<Figure size 600x600 with 1 Axes>"
      ]
     },
     "metadata": {
      "needs_background": "light"
     },
     "output_type": "display_data"
    }
   ],
   "source": [
    "routs_index = [[0, 2, 47, 1, 31, 18, 0, 0],\n",
    "[0, 43, 13, 12, 11, 44, 46, 33, 0, 0],\n",
    "[0, 27, 28, 29, 30, 42, 39, 40, 41, 16, 17, 20, 25, 0, 0],\n",
    "[0, 10, 9, 8, 48, 4, 5, 6, 7, 32, 34, 3, 45, 14, 0, 0],\n",
    "[0, 49, 50, 37, 38, 35, 36, 15, 26, 21, 22, 23, 24, 19, 0, 0]]\n",
    "rout_X = []\n",
    "rout_Y = []\n",
    "\n",
    "fig = plt.figure(figsize=(6,6), dpi=100)\n",
    "\n",
    "routs1 = get_routs(routs_index)\n",
    "scatter(X,Y)\n",
    "for rout in routs1:\n",
    "    plt.plot(rout[0], rout[1])\n",
    "# lenght: 942.758\n",
    "# 30 sec"
   ]
  },
  {
   "cell_type": "code",
   "execution_count": 20,
   "metadata": {},
   "outputs": [
    {
     "data": {
      "image/png": "[encoded data removed]",
      "text/plain": [
       "<Figure size 600x600 with 1 Axes>"
      ]
     },
     "metadata": {
      "needs_background": "light"
     },
     "output_type": "display_data"
    }
   ],
   "source": [
    "routs_index = [[0, 27, 31, 47, 1, 2, 0, 0],\n",
    "[0, 28, 29, 30, 42, 41, 39, 40, 18, 16, 17, 19, 20, 25, 0, 0],\n",
    "[0, 9, 8, 10, 4, 5, 6, 7, 32, 33, 34, 3, 0, 0],\n",
    "[0, 49, 50, 37, 24, 23, 22, 21, 26, 15, 36, 35, 38, 48, 0, 0],\n",
    "[0, 43, 12, 11, 13, 45, 46, 44, 14, 0, 0]]\n",
    "rout_X = []\n",
    "rout_Y = []\n",
    "\n",
    "fig = plt.figure(figsize=(6,6), dpi=100)\n",
    "\n",
    "routs1 = get_routs(routs_index)\n",
    "scatter(X,Y)\n",
    "for rout in routs1:\n",
    "    plt.plot(rout[0], rout[1])\n",
    "# lenght: 911.274\n",
    "# 30 sec"
   ]
  },
  {
   "cell_type": "code",
   "execution_count": null,
   "metadata": {},
   "outputs": [],
   "source": []
  }
 ],
 "metadata": {
  "kernelspec": {
   "display_name": "Python 3",
   "language": "python",
   "name": "python3"
  },
  "language_info": {
   "codemirror_mode": {
    "name": "ipython",
    "version": 3
   },
   "file_extension": ".py",
   "mimetype": "text/x-python",
   "name": "python",
   "nbconvert_exporter": "python",
   "pygments_lexer": "ipython3",
   "version": "3.8.5"
  }
 },
 "nbformat": 4,
 "nbformat_minor": 2
}
