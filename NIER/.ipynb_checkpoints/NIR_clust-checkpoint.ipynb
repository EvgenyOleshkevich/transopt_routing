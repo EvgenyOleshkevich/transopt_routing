{
 "cells": [
  {
   "cell_type": "code",
   "execution_count": 1,
   "metadata": {},
   "outputs": [],
   "source": [
    "import pandas as pd\n",
    "import numpy as np\n",
    "\n",
    "from matplotlib.pyplot import (axes,axis,title,legend,figure,\n",
    "                               xlabel,ylabel,xticks,yticks,\n",
    "                               xscale,yscale,text,grid,\n",
    "                               plot,scatter,errorbar,hist,polar,\n",
    "                               contour,contourf,colorbar,clabel,\n",
    "                               imshow)\n",
    "import matplotlib.pyplot as plt\n",
    "import random\n",
    "import math\n",
    "\n",
    "\n",
    "%matplotlib inline\n"
   ]
  },
  {
   "cell_type": "code",
   "execution_count": 2,
   "metadata": {},
   "outputs": [],
   "source": [
    "random.seed(a=2, version=2)"
   ]
  },
  {
   "cell_type": "code",
   "execution_count": 53,
   "metadata": {},
   "outputs": [],
   "source": [
    "size = 100\n",
    "count_players = 50\n",
    "A = [i - size for i in range(size*2 +1 )]\n",
    "X = random.choices(A, k=count_players)\n",
    "Y = random.choices(A, k=count_players)\n",
    "    \n",
    "    \n",
    "\n",
    "X = [0] + X\n",
    "Y = [0] + Y\n",
    "\n",
    "X = [28, -7, 78, 23, -99, -96, -39, 45, -56, -2, -77, -25, 43, -72,\n",
    "-31, 78, -49, -76, 23, -33, -22, -58, -79, 24, -6, -92, 41, -42, 92, -72, -25, -3,\n",
    "74, 44, 46, -16, -2, 36, -21, -69, 19, 10, 39, 40, -84, 46, 15, -86, -65, 9]\n",
    "Y = [62, 80, 60, 83, 36, 62, -93, 95, -22, 42, 77, -34, -66, -43,\n",
    "-69, 98, 94, -15, -34, -51, 3, -66, -69, 90, -53, 75, -28, 53, 46, -7, 44, 62,\n",
    "-23, 48, -22, -90, -45, -50, 46, -18, 30, -28, 10, 43, 83, -84, 64, 45, 7, -63]\n",
    "\n",
    "points = [(math.atan2(Y[i], X[i]) +math.pi,X[i], Y[i]) for i in range(len(X))]\n",
    "points = sorted(points)"
   ]
  },
  {
   "cell_type": "code",
   "execution_count": 54,
   "metadata": {},
   "outputs": [
    {
     "name": "stdout",
     "output_type": "stream",
     "text": [
      "[(0.09691762779436308, -72, -7), (0.19486391968887196, -76, -15), (0.2551823906208184, -69, -18), (0.37433361600758364, -56, -22), (0.5383745133462301, -72, -43), (0.7179331388755434, -79, -69), (0.8498250028230019, -58, -66), (0.9367736071314745, -25, -34), (0.9964914966201945, -33, -51), (1.1485451733436245, -31, -69), (1.1737168815699142, -39, -93), (1.3948567013423687, -16, -90), (1.4580687152045189, -6, -53), (1.5263811115479857, -2, -45), (1.7126933813990604, 9, -63), (1.9138202672156, 10, -28), (2.071809713598486, 46, -84), (2.1482359429394107, 43, -66), (2.1655555842782492, 23, -34), (2.194819379771653, 36, -50), (2.5424173306034863, 41, -28), (2.6954871046463893, 46, -22), (2.840247429879689, 74, -23), (3.3925953402328277, 39, 10), (3.6052402625905993, 92, 46), (3.797288279831329, 78, 60), (3.963119667500017, 40, 43), (3.970441712378772, 44, 48), (4.040141798577726, 78, 98), (4.14781958671659, 19, 30), (4.270014757407945, 45, 95), (4.288194572480923, 28, 62), (4.442063634006024, 23, 83), (4.451786588637349, 24, 90), (4.482169393107846, 15, 64), (4.7599720836616735, -2, 42), (4.760738367036593, -3, 62), (4.799666693334151, -7, 80), (5.1406531332613445, -21, 46), (5.192912624232417, -49, 94), (5.229084119146966, -25, 44), (5.382511017811186, -42, 53), (5.497787143782138, -77, 77), (5.503775096166051, -84, 83), (5.599234099081622, -92, 75), (5.7097447810247575, -96, 62), (5.801106605784682, -86, 45), (5.93441430359568, -99, 36), (6.147657593194086, -22, 3), (6.1759064515311834, -65, 7)]\n",
      "[-72, -76, -69, -56, -72, -79, -58, -25, -33, -31, -39, -16, -6, -2, 9, 10, 46, 43, 23, 36, 41, 46, 74, 39, 92, 78, 40, 44, 78, 19, 45, 28, 23, 24, 15, -2, -3, -7, -21, -49, -25, -42, -77, -84, -92, -96, -86, -99, -22, -65]\n",
      "[-7, -15, -18, -22, -43, -69, -66, -34, -51, -69, -93, -90, -53, -45, -63, -28, -84, -66, -34, -50, -28, -22, -23, 10, 46, 60, 43, 48, 98, 30, 95, 62, 83, 90, 64, 42, 62, 80, 46, 94, 44, 53, 77, 83, 75, 62, 45, 36, 3, 7]\n"
     ]
    }
   ],
   "source": [
    "\n",
    "print(points)\n",
    "_X = [points[i][1] for i in range(len(X))]\n",
    "_Y = [points[i][2] for i in range(len(X))]\n",
    "print(_X)\n",
    "print(_Y)"
   ]
  },
  {
   "cell_type": "code",
   "execution_count": 55,
   "metadata": {},
   "outputs": [
    {
     "data": {
      "text/plain": [
       "5.0"
      ]
     },
     "execution_count": 55,
     "metadata": {},
     "output_type": "execute_result"
    },
    {
     "data": {
      "image/png": "[encoded data removed]",
      "text/plain": [
       "<Figure size 600x600 with 1 Axes>"
      ]
     },
     "metadata": {
      "needs_background": "light"
     },
     "output_type": "display_data"
    }
   ],
   "source": [
    "fig = plt.figure(figsize=(6,6), dpi=100)\n",
    "\n",
    "points_in_route =10\n",
    "for  i in range(math.ceil(len(points)/points_in_route)):\n",
    "    scatter(_X[i*points_in_route:(i+1)*points_in_route],_Y[i*points_in_route:(i+1)*points_in_route])\n",
    "     \n",
    "scatter([0],[0])\n",
    "#plt.plot([players[me].X(), cos + players[me].X()], [players[me].Y(), sin + players[me].Y()])\n",
    "#for box in boxes_for_drawing:\n",
    "#    plt.plot(box[0], box[1])\n",
    "len(points)/points_in_route"
   ]
  },
  {
   "cell_type": "code",
   "execution_count": 19,
   "metadata": {},
   "outputs": [
    {
     "data": {
      "text/plain": [
       "-3.141592653089793"
      ]
     },
     "execution_count": 19,
     "metadata": {},
     "output_type": "execute_result"
    }
   ],
   "source": [
    "math.atan2(-0.00001, -20000) "
   ]
  },
  {
   "cell_type": "code",
   "execution_count": 18,
   "metadata": {},
   "outputs": [
    {
     "data": {
      "text/plain": [
       "3.141592653589793"
      ]
     },
     "execution_count": 18,
     "metadata": {},
     "output_type": "execute_result"
    }
   ],
   "source": [
    "math.pi"
   ]
  },
  {
   "cell_type": "code",
   "execution_count": 9,
   "metadata": {},
   "outputs": [],
   "source": [
    "\n",
    "def get_routs(routs_index):\n",
    "    routs = []\n",
    "    for rout in routs_index:\n",
    "        rout_X = []\n",
    "        rout_Y = []\n",
    "        for vertex in rout:\n",
    "            rout_X.append(X[vertex])\n",
    "            rout_Y.append(Y[vertex])\n",
    "        routs.append([rout_X, rout_Y])\n",
    "    return routs\n"
   ]
  }
 ],
 "metadata": {
  "kernelspec": {
   "display_name": "Python 3",
   "language": "python",
   "name": "python3"
  },
  "language_info": {
   "codemirror_mode": {
    "name": "ipython",
    "version": 3
   },
   "file_extension": ".py",
   "mimetype": "text/x-python",
   "name": "python",
   "nbconvert_exporter": "python",
   "pygments_lexer": "ipython3",
   "version": "3.8.3"
  }
 },
 "nbformat": 4,
 "nbformat_minor": 2
}
